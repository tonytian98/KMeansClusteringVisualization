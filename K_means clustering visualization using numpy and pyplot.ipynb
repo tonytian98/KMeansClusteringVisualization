{
 "cells": [
  {
   "cell_type": "code",
   "execution_count": 1,
   "metadata": {},
   "outputs": [],
   "source": [
    "import numpy as np\n",
    "import matplotlib.pyplot as plt\n",
    "from sklearn.datasets import make_blobs\n",
    "from numpy import random\n",
    "import imageio"
   ]
  },
  {
   "cell_type": "code",
   "execution_count": 2,
   "metadata": {},
   "outputs": [],
   "source": [
    "#Save plot and make them a GIF\n",
    "def SavePlot(title):\n",
    "    txt='{}.png'.format(title)\n",
    "    plt.savefig(txt)\n",
    "    return txt\n",
    "def GIF(filenames,title,duration=0.1):\n",
    "    images=[]\n",
    "    for filename in filenames:\n",
    "        images.append(imageio.imread(filename))\n",
    "    imageio.mimsave('{}.gif'.format(title),images,duration=duration)\n"
   ]
  },
  {
   "cell_type": "code",
   "execution_count": 3,
   "metadata": {},
   "outputs": [
    {
     "data": {
      "image/png": "[encoded data removed]",
      "text/plain": [
       "<Figure size 432x288 with 1 Axes>"
      ]
     },
     "metadata": {
      "needs_background": "light"
     },
     "output_type": "display_data"
    }
   ],
   "source": [
    "\n",
    "#total data size\n",
    "size=90\n",
    "#number of clusters\n",
    "NumOfClusters=3\n",
    "#cluster_std\n",
    "std=2\n",
    "#color1\n",
    "c1=np.array(['b','r'])\n",
    "#dot size on plot\n",
    "dotsize=30\n",
    "\n",
    "#convert y into predefined colors\n",
    "def Color(y,colors):\n",
    "    n=y.astype('str_')\n",
    "    a=np.copy(np.unique(y))\n",
    "    i=len(a)\n",
    "    for i in range(i):\n",
    "        for j in range(len(y)):\n",
    "            if y[j]==a[i]:\n",
    "                n[j]=colors[i]\n",
    "    return n\n",
    "\n",
    "\n",
    "#generate and plot data\n",
    "x, y_true = make_blobs(n_samples=size, centers=NumOfClusters,\n",
    "                       cluster_std=std)\n",
    "plt.scatter(x[:, 0], x[:, 1],c=c1[0],s=dotsize)\n",
    "plt.title('randomly generate sample\\n Number Of Clusters={}'.format(NumOfClusters))\n",
    "\n",
    "#filenames\n",
    "filenames=[]\n",
    "filenames.append(SavePlot('Generate sample'))\n",
    "#monitor center movement\n",
    "centers=[]"
   ]
  },
  {
   "cell_type": "code",
   "execution_count": 4,
   "metadata": {},
   "outputs": [
    {
     "data": {
      "image/png": "[encoded data removed]",
      "text/plain": [
       "<Figure size 432x288 with 1 Axes>"
      ]
     },
     "metadata": {
      "needs_background": "light"
     },
     "output_type": "display_data"
    }
   ],
   "source": [
    "#randomly chooce center\n",
    "choice=random.choice(size,NumOfClusters)\n",
    "#alternatively choice=random.randint(0,size,NumOfClusters) is also ok\n",
    "\n",
    "#show centers on the scatter plot\n",
    "def ShowCenters(indexes,c1):\n",
    "    y=np.zeros(size)\n",
    "    \n",
    "    for i in indexes:\n",
    "        y[i]=1\n",
    "    plt.scatter(x[:,0],x[:,1],c=Color(y,c1),s=dotsize)\n",
    "ShowCenters(choice,c1)\n",
    "plt.title('Randomly Chooce Centers')\n",
    "filenames.append(SavePlot('Randomly Chooce Center'))\n",
    "centers.append(SavePlot('Randomly Chooce Center'))"
   ]
  },
  {
   "cell_type": "code",
   "execution_count": 5,
   "metadata": {},
   "outputs": [],
   "source": [
    "#assign points to clusters\n",
    "def Assign(x,indexes):\n",
    "    y=np.zeros(len(x[:,0]))\n",
    "    ymodified=np.zeros(len(x[:,0]))\n",
    "    for m in range(len(x[:,0])):\n",
    "        norms=[]\n",
    "        for i in indexes:\n",
    "            norms.append(np.linalg.norm(x[m]-x[i]))\n",
    "        y[m]=np.where(norms==min(norms))[0][0]+1\n",
    "        if m not in indexes:\n",
    "            norms=[]\n",
    "            for i in indexes:\n",
    "                norms.append(np.linalg.norm(x[m]-x[i]))\n",
    "            ymodified[m]=np.where(norms==min(norms))[0][0]+1\n",
    "        else:\n",
    "            ymodified[m]=0\n",
    "    return y,ymodified\n",
    "\n",
    "#move centers to cluster average\n",
    "def Move(x,y):\n",
    "    u=np.copy(np.unique(y))\n",
    "    output=np.copy(y)\n",
    "    for i in u:\n",
    "        minimum=100\n",
    "        mean=np.mean(x[y==i],axis=0)\n",
    "        for m in range(len(x)):\n",
    "            if minimum>np.linalg.norm(mean-x[m]):\n",
    "                index=m\n",
    "                minimum=np.linalg.norm(mean-x[m])\n",
    "        output[index]=0\n",
    "    return output\n"
   ]
  },
  {
   "cell_type": "code",
   "execution_count": 6,
   "metadata": {},
   "outputs": [
    {
     "data": {
      "text/plain": [
       "<Figure size 432x288 with 0 Axes>"
      ]
     },
     "metadata": {},
     "output_type": "display_data"
    }
   ],
   "source": [
    "#c2 now supports 5 centers, if NumberOfCenters exceeds 5, please add more color\n",
    "c2=['r','y','purple','g','orange','black']\n",
    "picindex=1\n",
    "\n",
    "\n",
    "while True:\n",
    "    b=False\n",
    "    y,ym=Assign(x,choice)\n",
    "    plt.scatter(x[:,0],x[:,1],c=Color(ym,c2),s=dotsize)\n",
    "    plt.title('assign data to clusters \\n{}'.format(picindex))\n",
    "    filenames.append(SavePlot('assign data to clusters{}'.format(picindex)))\n",
    "    plt.clf()\n",
    "    newy=Move(x,y)\n",
    "\n",
    "    #if centers are the same as previous ones, k means clusting is done.\n",
    "    \n",
    "    compare=choice==np.where(newy==0)[0]\n",
    "    if np.all(compare):\n",
    "        picindex='Convergence. Clustering Done'\n",
    "        b=True\n",
    "    if b==True:\n",
    "        plt.scatter(x[:,0],x[:,1],c=Color(newy,c2),s=dotsize)\n",
    "    else:\n",
    "        ShowCenters(np.where(newy==0)[0],c1)\n",
    "    plt.title('Move Centers\\n{}'.format(picindex))\n",
    "    filenames.append(SavePlot('Move Centers{}'.format(picindex)))\n",
    "    centers.append(SavePlot('Move Centers{}'.format(picindex)))\n",
    "    plt.clf()\n",
    "        \n",
    "    if b==True:\n",
    "        break\n",
    "    choice=np.where(newy==0)[0]\n",
    "    picindex+=1\n",
    "GIF(filenames,'K_means clustering visualization using numpy and pyplot',2)\n",
    "GIF(centers,'Center Movement',2)"
   ]
  },
  {
   "cell_type": "code",
   "execution_count": null,
   "metadata": {},
   "outputs": [],
   "source": []
  },
  {
   "cell_type": "code",
   "execution_count": null,
   "metadata": {},
   "outputs": [],
   "source": []
  }
 ],
 "metadata": {
  "kernelspec": {
   "display_name": "Python 3",
   "language": "python",
   "name": "python3"
  },
  "language_info": {
   "codemirror_mode": {
    "name": "ipython",
    "version": 3
   },
   "file_extension": ".py",
   "mimetype": "text/x-python",
   "name": "python",
   "nbconvert_exporter": "python",
   "pygments_lexer": "ipython3",
   "version": "3.6.9"
  }
 },
 "nbformat": 4,
 "nbformat_minor": 4
}
